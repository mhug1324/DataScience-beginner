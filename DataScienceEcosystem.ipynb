{
 "cells": [
  {
   "cell_type": "markdown",
   "id": "2255860f-a9f2-4090-8d70-0d0fb352b8c9",
   "metadata": {},
   "source": [
    "# Data Science Tools and Ecosystem"
   ]
  },
  {
   "cell_type": "markdown",
   "id": "6dc1f4da-287f-4a24-bedf-1c13e886fca3",
   "metadata": {},
   "source": [
    "In this notebook, Data Science Tools and Ecosystem are summarized."
   ]
  },
  {
   "cell_type": "markdown",
   "id": "295114e0-cf28-461c-b0a8-5c5fa0cb5768",
   "metadata": {},
   "source": [
    "Some of the popular languages that Data Scientists use are:\n",
    "1. Python\n",
    "2. R\n",
    "3. SQL\n",
    "5. Scala\n",
    "6. Javascript\n",
    "7. Java\n",
    "8. C++\n"
   ]
  },
  {
   "cell_type": "markdown",
   "id": "fa0096cd-36a2-466b-b8e3-5ba3088e9334",
   "metadata": {},
   "source": [
    "Some of the commonly used libraries used by Data Scientists include:\n",
    "1. NumPy\n",
    "2. Pandas\n",
    "3. Scikit-learn\n",
    "4. SciPy\n",
    "5. Keras\n",
    "6. PyTorch\n",
    "7. PyBrain\n",
    "8. TensorFlow\n",
    "9. Matplotlib\n",
    "10. Scrapy"
   ]
  },
  {
   "cell_type": "markdown",
   "id": "258e9444-16cd-496a-b96e-ab6b99a59ff9",
   "metadata": {},
   "source": [
    "Objectives: \n",
    "* Some of the popular languages that Data Scientists use\n",
    "* Some of the commonly used libraries used by Data Scientists\n",
    "* Data Science Tools\n",
    "* Examples of evaluating arithmetic expressions in Python"
   ]
  },
  {
   "cell_type": "markdown",
   "id": "df66629c-f48e-4c0c-adc0-fae75e9618e0",
   "metadata": {},
   "source": [
    "| Data Science Tools |\n",
    "|--------------------|\n",
    "|RStudio|\n",
    "|Apache Hadoop|\n",
    "|Apache Spark|"
   ]
  },
  {
   "cell_type": "markdown",
   "id": "723a305b-c1da-4bd7-8559-208b6a273005",
   "metadata": {},
   "source": [
    "### Below are a few examples of evaluating arithmetic expressions in Python"
   ]
  },
  {
   "cell_type": "code",
   "execution_count": 13,
   "id": "c5ea7e48-c30f-4cc3-b41a-b0810779b93b",
   "metadata": {},
   "outputs": [
    {
     "data": {
      "text/plain": [
       "17"
      ]
     },
     "execution_count": 13,
     "metadata": {},
     "output_type": "execute_result"
    }
   ],
   "source": [
    "#This a simple arithmetic expression to mutiply then add integers\n",
    "\n",
    "(3*4)+5"
   ]
  },
  {
   "cell_type": "code",
   "execution_count": 23,
   "id": "446004f0-b67c-4576-a050-77103cb125e3",
   "metadata": {},
   "outputs": [
    {
     "name": "stdout",
     "output_type": "stream",
     "text": [
      "200 minutes is equal to 3.33 hours\n"
     ]
    }
   ],
   "source": [
    "#This will convert 200 minutes to hours by diving by 60\n",
    "minutes = 200\n",
    "hours = minutes/60\n",
    "print(f\"{minutes} minutes is equal to {round(hours, 2)} hours\")"
   ]
  },
  {
   "cell_type": "markdown",
   "id": "03225fd9-f7ff-4caf-b595-c031b9dd4e30",
   "metadata": {},
   "source": [
    "## Author \n",
    "Mikhail Hughes"
   ]
  }
 ],
 "metadata": {
  "kernelspec": {
   "display_name": "Python [conda env:base] *",
   "language": "python",
   "name": "conda-base-py"
  },
  "language_info": {
   "codemirror_mode": {
    "name": "ipython",
    "version": 3
   },
   "file_extension": ".py",
   "mimetype": "text/x-python",
   "name": "python",
   "nbconvert_exporter": "python",
   "pygments_lexer": "ipython3",
   "version": "3.12.7"
  }
 },
 "nbformat": 4,
 "nbformat_minor": 5
}
